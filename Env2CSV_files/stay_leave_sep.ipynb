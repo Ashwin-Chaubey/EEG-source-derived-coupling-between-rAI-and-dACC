{
 "cells": [
  {
   "cell_type": "code",
   "execution_count": 1,
   "id": "initial_id",
   "metadata": {
    "collapsed": true,
    "ExecuteTime": {
     "end_time": "2024-07-09T13:58:05.105575Z",
     "start_time": "2024-07-09T13:58:05.103914Z"
    }
   },
   "outputs": [],
   "source": [
    "import pandas as pd"
   ]
  },
  {
   "cell_type": "code",
   "outputs": [],
   "source": [
    "data = pd.read_csv('P32_Gulafsa_Final_P32_001_24_9_22_.csv')"
   ],
   "metadata": {
    "collapsed": false,
    "ExecuteTime": {
     "end_time": "2024-07-09T13:58:06.980380Z",
     "start_time": "2024-07-09T13:58:06.971711Z"
    }
   },
   "id": "1dd96697e154a31a",
   "execution_count": 2
  },
  {
   "cell_type": "code",
   "outputs": [
    {
     "data": {
      "text/plain": "    Unnamed: 0  Tree number  Time elapsed Decision  Reaction time  Reward  \\\n0            0            1      3.605995     stay       1.006883      94   \n1            1            1      6.554088     stay       0.554949      85   \n2            2            1      9.857698     stay       0.592550      75   \n3            3            1     13.015609     stay       0.534275      62   \n4            4            1     16.195638     stay       0.614127      47   \n..         ...          ...           ...      ...            ...     ...   \n59          59            8    281.944027     stay       0.667943      45   \n60          60            8    285.169653     stay       0.776938      42   \n61          61            8    288.355954     stay       0.746759      34   \n62          62            8    291.783997     stay       1.041218      20   \n63          63            8    295.075630    leave       0.766400       0   \n\n    Cumulative reward per tree  Total cumulative reward  \n0                           94                       94  \n1                          179                      179  \n2                          254                      254  \n3                          316                      316  \n4                          363                      363  \n..                         ...                      ...  \n59                         344                     3278  \n60                         386                     3320  \n61                         420                     3354  \n62                         440                     3374  \n63                         440                     3374  \n\n[64 rows x 8 columns]",
      "text/html": "<div>\n<style scoped>\n    .dataframe tbody tr th:only-of-type {\n        vertical-align: middle;\n    }\n\n    .dataframe tbody tr th {\n        vertical-align: top;\n    }\n\n    .dataframe thead th {\n        text-align: right;\n    }\n</style>\n<table border=\"1\" class=\"dataframe\">\n  <thead>\n    <tr style=\"text-align: right;\">\n      <th></th>\n      <th>Unnamed: 0</th>\n      <th>Tree number</th>\n      <th>Time elapsed</th>\n      <th>Decision</th>\n      <th>Reaction time</th>\n      <th>Reward</th>\n      <th>Cumulative reward per tree</th>\n      <th>Total cumulative reward</th>\n    </tr>\n  </thead>\n  <tbody>\n    <tr>\n      <th>0</th>\n      <td>0</td>\n      <td>1</td>\n      <td>3.605995</td>\n      <td>stay</td>\n      <td>1.006883</td>\n      <td>94</td>\n      <td>94</td>\n      <td>94</td>\n    </tr>\n    <tr>\n      <th>1</th>\n      <td>1</td>\n      <td>1</td>\n      <td>6.554088</td>\n      <td>stay</td>\n      <td>0.554949</td>\n      <td>85</td>\n      <td>179</td>\n      <td>179</td>\n    </tr>\n    <tr>\n      <th>2</th>\n      <td>2</td>\n      <td>1</td>\n      <td>9.857698</td>\n      <td>stay</td>\n      <td>0.592550</td>\n      <td>75</td>\n      <td>254</td>\n      <td>254</td>\n    </tr>\n    <tr>\n      <th>3</th>\n      <td>3</td>\n      <td>1</td>\n      <td>13.015609</td>\n      <td>stay</td>\n      <td>0.534275</td>\n      <td>62</td>\n      <td>316</td>\n      <td>316</td>\n    </tr>\n    <tr>\n      <th>4</th>\n      <td>4</td>\n      <td>1</td>\n      <td>16.195638</td>\n      <td>stay</td>\n      <td>0.614127</td>\n      <td>47</td>\n      <td>363</td>\n      <td>363</td>\n    </tr>\n    <tr>\n      <th>...</th>\n      <td>...</td>\n      <td>...</td>\n      <td>...</td>\n      <td>...</td>\n      <td>...</td>\n      <td>...</td>\n      <td>...</td>\n      <td>...</td>\n    </tr>\n    <tr>\n      <th>59</th>\n      <td>59</td>\n      <td>8</td>\n      <td>281.944027</td>\n      <td>stay</td>\n      <td>0.667943</td>\n      <td>45</td>\n      <td>344</td>\n      <td>3278</td>\n    </tr>\n    <tr>\n      <th>60</th>\n      <td>60</td>\n      <td>8</td>\n      <td>285.169653</td>\n      <td>stay</td>\n      <td>0.776938</td>\n      <td>42</td>\n      <td>386</td>\n      <td>3320</td>\n    </tr>\n    <tr>\n      <th>61</th>\n      <td>61</td>\n      <td>8</td>\n      <td>288.355954</td>\n      <td>stay</td>\n      <td>0.746759</td>\n      <td>34</td>\n      <td>420</td>\n      <td>3354</td>\n    </tr>\n    <tr>\n      <th>62</th>\n      <td>62</td>\n      <td>8</td>\n      <td>291.783997</td>\n      <td>stay</td>\n      <td>1.041218</td>\n      <td>20</td>\n      <td>440</td>\n      <td>3374</td>\n    </tr>\n    <tr>\n      <th>63</th>\n      <td>63</td>\n      <td>8</td>\n      <td>295.075630</td>\n      <td>leave</td>\n      <td>0.766400</td>\n      <td>0</td>\n      <td>440</td>\n      <td>3374</td>\n    </tr>\n  </tbody>\n</table>\n<p>64 rows × 8 columns</p>\n</div>"
     },
     "execution_count": 3,
     "metadata": {},
     "output_type": "execute_result"
    }
   ],
   "source": [
    "data"
   ],
   "metadata": {
    "collapsed": false,
    "ExecuteTime": {
     "end_time": "2024-07-09T13:58:08.341318Z",
     "start_time": "2024-07-09T13:58:08.326954Z"
    }
   },
   "id": "503ea1bb6b49b41",
   "execution_count": 3
  },
  {
   "cell_type": "code",
   "outputs": [],
   "source": [
    "stay_data_p32_env1 = data[data['Decision'] == 'stay' ]\n",
    "leave_data_p32_env1 = data[data['Decision'] == 'leave' ]"
   ],
   "metadata": {
    "collapsed": false,
    "ExecuteTime": {
     "end_time": "2024-07-09T13:58:39.710140Z",
     "start_time": "2024-07-09T13:58:39.678518Z"
    }
   },
   "id": "9b64cace1758cd4a",
   "execution_count": 4
  },
  {
   "cell_type": "code",
   "outputs": [],
   "source": [
    "stay_data_p32_env1.to_csv('stay_data_p32_env2.csv', index=False)\n",
    "leave_data_p32_env1.to_csv('leave_data_p32_env2.csv', index=False)"
   ],
   "metadata": {
    "collapsed": false,
    "ExecuteTime": {
     "end_time": "2024-07-09T13:59:01.871081Z",
     "start_time": "2024-07-09T13:59:01.857195Z"
    }
   },
   "id": "168bfd56fee8ce7b",
   "execution_count": 6
  },
  {
   "cell_type": "code",
   "outputs": [],
   "source": [],
   "metadata": {
    "collapsed": false
   },
   "id": "508cc33dad852f3"
  }
 ],
 "metadata": {
  "kernelspec": {
   "display_name": "Python 3",
   "language": "python",
   "name": "python3"
  },
  "language_info": {
   "codemirror_mode": {
    "name": "ipython",
    "version": 2
   },
   "file_extension": ".py",
   "mimetype": "text/x-python",
   "name": "python",
   "nbconvert_exporter": "python",
   "pygments_lexer": "ipython2",
   "version": "2.7.6"
  }
 },
 "nbformat": 4,
 "nbformat_minor": 5
}
