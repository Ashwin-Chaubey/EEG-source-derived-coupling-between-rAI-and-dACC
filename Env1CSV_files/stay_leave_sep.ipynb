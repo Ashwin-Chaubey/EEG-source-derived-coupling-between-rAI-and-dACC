{
 "cells": [
  {
   "cell_type": "code",
   "execution_count": 1,
   "id": "initial_id",
   "metadata": {
    "collapsed": true,
    "ExecuteTime": {
     "end_time": "2024-07-09T13:58:29.345046Z",
     "start_time": "2024-07-09T13:58:29.343045Z"
    }
   },
   "outputs": [],
   "source": [
    "import pandas as pd"
   ]
  },
  {
   "cell_type": "code",
   "outputs": [],
   "source": [
    "data = pd.read_csv('P32_Gulafsa_Final_P32_001_24_9_22_.csv')"
   ],
   "metadata": {
    "collapsed": false,
    "ExecuteTime": {
     "end_time": "2024-07-09T13:58:29.810254Z",
     "start_time": "2024-07-09T13:58:29.804023Z"
    }
   },
   "id": "1dd96697e154a31a",
   "execution_count": 2
  },
  {
   "cell_type": "code",
   "outputs": [
    {
     "data": {
      "text/plain": "    Unnamed: 0  Tree number  Time elapsed Decision  Reaction time  Reward  \\\n0            0            1      4.173555     stay       1.047064      98   \n1            1            1      7.895552     stay       0.835637      81   \n2            2            1     11.495458     stay       1.084702      67   \n3            3            1     15.683376     stay       0.823684      63   \n4            4            1     21.531598     stay       1.171395      49   \n..         ...          ...           ...      ...            ...     ...   \n67          67           12    281.465649     stay       0.544915      84   \n68          68           12    284.411561     stay       0.774017      74   \n69          69           12    287.458033     stay       0.670115      62   \n70          70           12    291.327368     stay       0.556842      51   \n71          71           12    294.327600    leave       0.540185       0   \n\n    Cumulative reward per tree  Total cumulative reward  \n0                           98                       98  \n1                          179                      179  \n2                          246                      246  \n3                          309                      309  \n4                          358                      358  \n..                         ...                      ...  \n67                         177                     4031  \n68                         251                     4105  \n69                         313                     4167  \n70                         364                     4218  \n71                         364                     4218  \n\n[72 rows x 8 columns]",
      "text/html": "<div>\n<style scoped>\n    .dataframe tbody tr th:only-of-type {\n        vertical-align: middle;\n    }\n\n    .dataframe tbody tr th {\n        vertical-align: top;\n    }\n\n    .dataframe thead th {\n        text-align: right;\n    }\n</style>\n<table border=\"1\" class=\"dataframe\">\n  <thead>\n    <tr style=\"text-align: right;\">\n      <th></th>\n      <th>Unnamed: 0</th>\n      <th>Tree number</th>\n      <th>Time elapsed</th>\n      <th>Decision</th>\n      <th>Reaction time</th>\n      <th>Reward</th>\n      <th>Cumulative reward per tree</th>\n      <th>Total cumulative reward</th>\n    </tr>\n  </thead>\n  <tbody>\n    <tr>\n      <th>0</th>\n      <td>0</td>\n      <td>1</td>\n      <td>4.173555</td>\n      <td>stay</td>\n      <td>1.047064</td>\n      <td>98</td>\n      <td>98</td>\n      <td>98</td>\n    </tr>\n    <tr>\n      <th>1</th>\n      <td>1</td>\n      <td>1</td>\n      <td>7.895552</td>\n      <td>stay</td>\n      <td>0.835637</td>\n      <td>81</td>\n      <td>179</td>\n      <td>179</td>\n    </tr>\n    <tr>\n      <th>2</th>\n      <td>2</td>\n      <td>1</td>\n      <td>11.495458</td>\n      <td>stay</td>\n      <td>1.084702</td>\n      <td>67</td>\n      <td>246</td>\n      <td>246</td>\n    </tr>\n    <tr>\n      <th>3</th>\n      <td>3</td>\n      <td>1</td>\n      <td>15.683376</td>\n      <td>stay</td>\n      <td>0.823684</td>\n      <td>63</td>\n      <td>309</td>\n      <td>309</td>\n    </tr>\n    <tr>\n      <th>4</th>\n      <td>4</td>\n      <td>1</td>\n      <td>21.531598</td>\n      <td>stay</td>\n      <td>1.171395</td>\n      <td>49</td>\n      <td>358</td>\n      <td>358</td>\n    </tr>\n    <tr>\n      <th>...</th>\n      <td>...</td>\n      <td>...</td>\n      <td>...</td>\n      <td>...</td>\n      <td>...</td>\n      <td>...</td>\n      <td>...</td>\n      <td>...</td>\n    </tr>\n    <tr>\n      <th>67</th>\n      <td>67</td>\n      <td>12</td>\n      <td>281.465649</td>\n      <td>stay</td>\n      <td>0.544915</td>\n      <td>84</td>\n      <td>177</td>\n      <td>4031</td>\n    </tr>\n    <tr>\n      <th>68</th>\n      <td>68</td>\n      <td>12</td>\n      <td>284.411561</td>\n      <td>stay</td>\n      <td>0.774017</td>\n      <td>74</td>\n      <td>251</td>\n      <td>4105</td>\n    </tr>\n    <tr>\n      <th>69</th>\n      <td>69</td>\n      <td>12</td>\n      <td>287.458033</td>\n      <td>stay</td>\n      <td>0.670115</td>\n      <td>62</td>\n      <td>313</td>\n      <td>4167</td>\n    </tr>\n    <tr>\n      <th>70</th>\n      <td>70</td>\n      <td>12</td>\n      <td>291.327368</td>\n      <td>stay</td>\n      <td>0.556842</td>\n      <td>51</td>\n      <td>364</td>\n      <td>4218</td>\n    </tr>\n    <tr>\n      <th>71</th>\n      <td>71</td>\n      <td>12</td>\n      <td>294.327600</td>\n      <td>leave</td>\n      <td>0.540185</td>\n      <td>0</td>\n      <td>364</td>\n      <td>4218</td>\n    </tr>\n  </tbody>\n</table>\n<p>72 rows × 8 columns</p>\n</div>"
     },
     "execution_count": 3,
     "metadata": {},
     "output_type": "execute_result"
    }
   ],
   "source": [
    "data"
   ],
   "metadata": {
    "collapsed": false,
    "ExecuteTime": {
     "end_time": "2024-07-09T13:58:30.279875Z",
     "start_time": "2024-07-09T13:58:30.266664Z"
    }
   },
   "id": "503ea1bb6b49b41",
   "execution_count": 3
  },
  {
   "cell_type": "code",
   "outputs": [],
   "source": [
    "stay_data_p32_env1 = data[data['Decision'] == 'stay' ]\n",
    "leave_data_p32_env1 = data[data['Decision'] == 'leave' ]"
   ],
   "metadata": {
    "collapsed": false,
    "ExecuteTime": {
     "end_time": "2024-07-05T11:35:35.451989Z",
     "start_time": "2024-07-05T11:35:35.446818Z"
    }
   },
   "id": "9b64cace1758cd4a",
   "execution_count": 12
  },
  {
   "cell_type": "code",
   "outputs": [],
   "source": [
    "stay_data_p32_env1.to_csv('stay_data_p32_env1.csv', index=False)\n",
    "leave_data_p32_env1.to_csv('leave_data_p32_env1.csv', index=False)"
   ],
   "metadata": {
    "collapsed": false,
    "ExecuteTime": {
     "end_time": "2024-07-05T11:36:22.915786Z",
     "start_time": "2024-07-05T11:36:22.903792Z"
    }
   },
   "id": "168bfd56fee8ce7b",
   "execution_count": 14
  },
  {
   "cell_type": "code",
   "outputs": [],
   "source": [],
   "metadata": {
    "collapsed": false
   },
   "id": "508cc33dad852f3"
  }
 ],
 "metadata": {
  "kernelspec": {
   "display_name": "Python 3",
   "language": "python",
   "name": "python3"
  },
  "language_info": {
   "codemirror_mode": {
    "name": "ipython",
    "version": 2
   },
   "file_extension": ".py",
   "mimetype": "text/x-python",
   "name": "python",
   "nbconvert_exporter": "python",
   "pygments_lexer": "ipython2",
   "version": "2.7.6"
  }
 },
 "nbformat": 4,
 "nbformat_minor": 5
}
